{
 "cells": [
  {
   "cell_type": "markdown",
   "id": "057917cc",
   "metadata": {
    "pycharm": {
     "name": "#%% md\n"
    }
   },
   "source": [
    "# Deftpy: Algorithmic Prediction of the Thermodynamics of Defects in Metal Oxides\n",
    "\n",
    "#### Ethan Nussinov, Wexler Group\n",
    "\n"
   ]
  },
  {
   "attachments": {},
   "cell_type": "markdown",
   "id": "04b0b2a5",
   "metadata": {
    "pycharm": {
     "name": "#%% md\n"
    }
   },
   "source": [
    "---\n",
    "## Summary\n",
    "\n",
    "Deftpy is a python package built from a model first concieved in a 2021 paper: *Factors Governing Oxygen Vacancy Formation in Oxide Perovskites*, cited in the references. The principal idea governing the creation of the model is that perovskites have proven to be tremendously important for a host of potential applications, everything from sustainable energy to improved computer memory methodologies. All of the aforementioned utilizations are highly dependent on the formation of oxygen vacancies in these perovskites, and as such this is an area of great interest in many applicable domains. In the paper, Wexler et. al. report the construction of a compact linear model (MAE of 0.45eV), dependent on easily accessible and inexpensive data and quantum mechanical calculations, to predict just that -- formation of oxygen vacancies.\n",
    "\n"
   ]
  },
  {
   "cell_type": "markdown",
   "id": "9b30d341",
   "metadata": {
    "pycharm": {
     "name": "#%% md\n"
    }
   },
   "source": [
    "---\n",
    "## Statement of Need\n",
    "\n",
    "The purpose of deftpy is to turn the model from this paper into widely accessible and easily implemented code in python. The workflow of deftpy (outlined in figure 1) is easy to follow.\n",
    "1. A file is read in and stored as an instance of the class `Crystal`\n",
    "2. The unique oxygens in the structure are determined, and assigned coordination numbers using CrystalNN\n",
    "3. The non oxygens are identified and assigned oxidation states\n",
    "4. The $E_b$ and $V_r$ associated by cation are pulled from the XF data\n",
    "5. Using $E_b$, $V_r$, and the coordination numbers of the unique oxygens, $E_v$ is determined using the XF model."
   ]
  },
  {
   "attachments": {},
   "cell_type": "markdown",
   "id": "65a95f30",
   "metadata": {
    "pycharm": {
     "name": "#%% md\n"
    }
   },
   "source": [
    "#### Descriptors for $E_v$\n",
    "\n",
    "$∑E_b$ and $V_r$ for perovskites ($ABO_3$)\n",
    "1. $∑E_b$ = $4E_b$[$O^{2-}$ - $An^+$] + $2E_b$[$O^{2-}$ - $Bm^+$]\n",
    "\n",
    "This is the sum of the $E_b$ values for the crystal bonds formed between a specific $O^{2–}$ that forms the vacancy and its nearest cation neighbors.\n",
    "\n",
    "2. $V_r$ = max($V_r$[$Am^+$ → $An^+$], $V_r$[$Br^+$ → $Bs^+$]), where m>n, and r>s\n",
    "\n",
    "Maximum $V_r$ value among the nearest cation neighbors of a specific $O^{2–}$ and is the most dominant factor determining Ev in our model.\n",
    "\n",
    "These + XF data = $E_v$ (neutral $V_O$ formation energies), SCAN-U/$E_{hull}$\n",
    "\n",
    "\n",
    "\n"
   ]
  },
  {
   "attachments": {},
   "cell_type": "markdown",
   "id": "76da1bd1",
   "metadata": {
    "pycharm": {
     "name": "#%% md\n"
    }
   },
   "source": [
    "#### Calculation of Coordination Numbers\n",
    "\n",
    "We elected to use CrystalNN for assigning coordination numbers to our unique oxygen. This decision was made after several read throughs of this paper: Benchmarking Coordination Number Prediction Algorithms onInorganic Crystal Structures. As understood by the title, the paper benchmarks several algorithms for predicting coordination numbers, and introduces a novel algorithm, CrystalNN. CrystalNN is a modification of the Voronoi analysis algorithm, and it calculates the Voronoi polyhedra for each atom in the crystal, then uses a set of rules to determine which neighboring atoms are bonded with the central atom, based on factors like distance and angle between the atoms. \n",
    "\n",
    "Advantages of CrystalNN:\n",
    "1. designed specifically for predicting coordination numbers in inorganic crystal structures\n",
    "2. captures complex bonding patterns and can be used to identify the coordination environment of each atom in the crystal\n",
    "3. high accuracy, benchmarked scores outcompeted almost every other algorithm displayed with the least amount of overestimation.\n",
    "4. access to the algorithm is open source through pymatgen, flexible, and still under continuous development, so constant modification and improvements\n",
    "\n",
    "Disadvantages of CrystalNN:\n",
    "1. more computationally expensive than other algorithms (due to having to calculate VP and apply bonding rules)\n",
    "2. sensitive to the choice of rules used to determine which neighboring atoms are considered to be bonded\n",
    "    - in our case, this matters little as it correctly predicts CN of perovskites in all cases shown\n",
    "\n",
    "\n"
   ]
  },
  {
   "attachments": {},
   "cell_type": "markdown",
   "id": "dd607152",
   "metadata": {
    "pycharm": {
     "name": "#%% md\n"
    }
   },
   "source": [
    "### At Present\n",
    "\n",
    "Dataframe in following format:\n",
    "Structure | Unique O Index | # of neighbor types | neighbor 1 - charge of n1, CN of n1 | neighbor 2 - etc. | \n",
    "For an inputted crystal. \n",
    "\n",
    "The next step is to search the XF data for Eb and Vr associated by cation.\n",
    "1. $E_b$ = $E_b[O^{2–} - M^{n+}]$ → $∑E_b = 4E_b[O^{2-} - Ca^{2+}] + 2E_b[O^{2-} - Ti^{4+}]$\n",
    "2. $V_r$ = $V_r[M^{n+} → M^{m+}]$, n>m. Find the largest m s.t. n>m.\n",
    "3. $Ti^{4+}_{n=4} → Ti^{m+}_{m<4}, Ti^{3+} → m=3$\n",
    "4. Calculate $E_v$ as a function of $∑E_b$ and $V_r$, refer back to paper\n",
    "\n"
   ]
  },
  {
   "attachments": {},
   "cell_type": "markdown",
   "id": "0ff0d455",
   "metadata": {
    "pycharm": {
     "name": "#%% md\n"
    }
   },
   "source": [
    "Currently we are also working on adding unit tests, type hints, documentation, docstrings, PEP8, and other general good python package practices. We may also benchmark CrystalNN against other mentioned algorithms in the paper for our own purposes, to see if it is truly the best choice."
   ]
  },
  {
   "attachments": {},
   "cell_type": "markdown",
   "id": "e818e4ed",
   "metadata": {
    "pycharm": {
     "name": "#%% md\n"
    }
   },
   "source": [
    "In the future, I'd also potentially like to utilize pySIPFENN (Structure-Informed Prediction of Formation Energy using Neural Networks) as a possible way to predict $E_{hull}$"
   ]
  },
  {
   "cell_type": "markdown",
   "id": "7ea2a3aa",
   "metadata": {
    "pycharm": {
     "name": "#%% md\n"
    }
   },
   "source": []
  }
 ],
 "metadata": {
  "kernelspec": {
   "display_name": "base",
   "language": "python",
   "name": "python3"
  },
  "language_info": {
   "codemirror_mode": {
    "name": "ipython",
    "version": 3
   },
   "file_extension": ".py",
   "mimetype": "text/x-python",
   "name": "python",
   "nbconvert_exporter": "python",
   "pygments_lexer": "ipython3",
   "version": "3.9.12 (main, Apr  5 2022, 01:53:17) \n[Clang 12.0.0 ]"
  },
  "vscode": {
   "interpreter": {
    "hash": "6ac3b6dd44aaff0aa9ed65164304391991eb7be0aaf461540e996ffd4cd9c15d"
   }
  }
 },
 "nbformat": 4,
 "nbformat_minor": 5
}